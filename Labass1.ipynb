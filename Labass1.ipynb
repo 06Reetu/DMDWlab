{
  "nbformat": 4,
  "nbformat_minor": 0,
  "metadata": {
    "colab": {
      "name": "Labass1.ipynb",
      "provenance": [],
      "authorship_tag": "ABX9TyOtdm/dNKa+qvmBEjR9wBMt",
      "include_colab_link": true
    },
    "kernelspec": {
      "name": "python3",
      "display_name": "Python 3"
    },
    "language_info": {
      "name": "python"
    }
  },
  "cells": [
    {
      "cell_type": "markdown",
      "metadata": {
        "id": "view-in-github",
        "colab_type": "text"
      },
      "source": [
        "<a href=\"https://colab.research.google.com/github/06Reetu/DMDWlab/blob/main/Labass1.ipynb\" target=\"_parent\"><img src=\"https://colab.research.google.com/assets/colab-badge.svg\" alt=\"Open In Colab\"/></a>"
      ]
    },
    {
      "cell_type": "markdown",
      "metadata": {
        "id": "GeTwqPDP9cz0"
      },
      "source": [
        "1. First create a list in Python (Ex- [12,35,18,9,56,24]). Next find mean and median of the list without using any built-in/Library Functions."
      ]
    },
    {
      "cell_type": "code",
      "metadata": {
        "colab": {
          "base_uri": "https://localhost:8080/"
        },
        "id": "DVa05QCU9aJW",
        "outputId": "bdf0da10-36d4-42e8-bd8a-4a4c9022a3ce"
      },
      "source": [
        "lst=[12,35,18,9,56,24]\n",
        "n=len(lst)\n",
        "s=sum(lst)\n",
        "mean=s/n\n",
        "print(\"Mean is\",mean)\n",
        "lst.sort()\n",
        "if n%2==0:\n",
        "  mid1=lst[n//2]\n",
        "  mid2=lst[n//2-1]\n",
        "  median= (mid1+mid2)/2\n",
        "else:\n",
        "  median=lst[n//2]\n",
        "print(\"Median is\",median)\n",
        "\n"
      ],
      "execution_count": 1,
      "outputs": [
        {
          "output_type": "stream",
          "name": "stdout",
          "text": [
            "Mean is 25.666666666666668\n",
            "Median is 21.0\n"
          ]
        }
      ]
    },
    {
      "cell_type": "markdown",
      "metadata": {
        "id": "F9aGgFET-wDH"
      },
      "source": [
        "2. First create a list in python (Ex- [2,3,1,1,6,2,1,5]), next find the mode of the list without using any built-in/library functions."
      ]
    },
    {
      "cell_type": "code",
      "metadata": {
        "colab": {
          "base_uri": "https://localhost:8080/"
        },
        "id": "tyv_C40R-zyr",
        "outputId": "845ca333-708c-4957-805d-5e89be0b5e39"
      },
      "source": [
        "lst1=[2,3,1,1,6,2,1,5]\n",
        "lst1.sort()\n",
        "lst2=[]\n",
        "res=[]\n",
        "for i in lst1:\n",
        "  lst2.append(lst1.count(i))\n",
        "dic=dict(zip(lst1,lst2))\n",
        "for k,v in dic.items():\n",
        "  if v==max(lst2):\n",
        "    res.append(k)\n",
        "print(\"Mode is:\",res)"
      ],
      "execution_count": 2,
      "outputs": [
        {
          "output_type": "stream",
          "name": "stdout",
          "text": [
            "Mode is: [1]\n"
          ]
        }
      ]
    },
    {
      "cell_type": "markdown",
      "metadata": {
        "id": "5wquDnKR_10i"
      },
      "source": [
        "\n",
        "3. First create a list in Python (Ex- [12,35,18,9,56,24]). Next find the second smallest number and second highest number in the list"
      ]
    },
    {
      "cell_type": "code",
      "metadata": {
        "colab": {
          "base_uri": "https://localhost:8080/"
        },
        "id": "18RuKucs_6fK",
        "outputId": "8ff0cf36-9b9f-4542-ca43-7bbb1b12810c"
      },
      "source": [
        "lst=[22,34,56,78,11]\n",
        "lst.sort()\n",
        "print(\"SEcond smallest\",lst[1])\n",
        "print(\"SEcond highest\",lst[-2])"
      ],
      "execution_count": 3,
      "outputs": [
        {
          "output_type": "stream",
          "name": "stdout",
          "text": [
            "SEcond smallest 22\n",
            "SEcond highest 56\n"
          ]
        }
      ]
    }
  ]
}